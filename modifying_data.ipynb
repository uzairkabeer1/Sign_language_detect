{
 "cells": [
  {
   "cell_type": "code",
   "execution_count": 1,
   "metadata": {},
   "outputs": [],
   "source": [
    "import torch\n",
    "import torch.nn as nn\n",
    "import torch.optim as optim\n",
    "from torch.optim import lr_scheduler\n",
    "import os\n",
    "from torch.autograd import Variable\n",
    "from torchvision import datasets, models, transforms\n",
    "import numpy as np\n",
    "import cv2\n",
    "import mediapipe as mp"
   ]
  },
  {
   "cell_type": "code",
   "execution_count": 2,
   "metadata": {},
   "outputs": [],
   "source": [
    "mp_hands = mp.solutions.hands.Hands(\n",
    "    max_num_hands=1, min_detection_confidence=0.5, min_tracking_confidence=0.5\n",
    ")"
   ]
  },
  {
   "cell_type": "code",
   "execution_count": 7,
   "metadata": {},
   "outputs": [],
   "source": [
    "def process_image_with_mediapipe(image_path):\n",
    "    image = cv2.imread(image_path)\n",
    "    image_rgb = cv2.cvtColor(image, cv2.COLOR_BGR2RGB)\n",
    "    results = mp_hands.process(image_rgb)\n",
    "    if results.multi_hand_landmarks:\n",
    "        for hand_landmarks in results.multi_hand_landmarks:\n",
    "            min_x, min_y, max_x, max_y = image.shape[1], image.shape[0], 0, 0\n",
    "            for landmark in hand_landmarks.landmark:\n",
    "                x, y = int(landmark.x * image.shape[1]), int(landmark.y * image.shape[0])\n",
    "                min_x = min(min_x, x)\n",
    "                max_x = max(max_x, x)\n",
    "                min_y = min(min_y, y)\n",
    "                max_y = max(max_y, y)\n",
    "            cropped_image = image[min_y:max_y, min_x:max_x]\n",
    "            return cropped_image\n",
    "    return None"
   ]
  },
  {
   "cell_type": "code",
   "execution_count": 8,
   "metadata": {},
   "outputs": [],
   "source": [
    "data_dir = 'C:/Sign Language Detection/Module 1 (sign to text)/dataset/'\n",
    "output_dir = 'C:/Sign Language Detection/Module 1 (sign to text)/processed_dataset/'\n",
    "\n",
    "os.makedirs(output_dir, exist_ok=True)"
   ]
  },
  {
   "cell_type": "code",
   "execution_count": 9,
   "metadata": {},
   "outputs": [
    {
     "name": "stdout",
     "output_type": "stream",
     "text": [
      "Processing Train_Alphabet...\n",
      "Processing Test_Alphabet...\n",
      "Hand images dataset created successfully.\n"
     ]
    }
   ],
   "source": [
    "for phase in ['Train_Alphabet', 'Test_Alphabet']:\n",
    "    print(f\"Processing {phase}...\")\n",
    "    output_phase_dir = os.path.join(output_dir, phase)\n",
    "    os.makedirs(output_phase_dir, exist_ok=True)\n",
    "\n",
    "    for root, _, filenames in os.walk(os.path.join(data_dir, phase)):\n",
    "        for filename in filenames:\n",
    "            if filename.endswith(('.jpg', '.jpeg', '.png')):\n",
    "                image_path = os.path.join(root, filename)\n",
    "                processed_image = process_image_with_mediapipe(image_path)\n",
    "                if processed_image is not None:\n",
    "                    output_path = os.path.join(output_phase_dir, os.path.relpath(image_path, data_dir))\n",
    "                    os.makedirs(os.path.dirname(output_path), exist_ok=True)\n",
    "                    cv2.imwrite(output_path, processed_image)\n",
    "\n",
    "print(\"Hand images dataset created successfully.\")"
   ]
  },
  {
   "cell_type": "code",
   "execution_count": null,
   "metadata": {},
   "outputs": [],
   "source": []
  }
 ],
 "metadata": {
  "kernelspec": {
   "display_name": "Python 3",
   "language": "python",
   "name": "python3"
  },
  "language_info": {
   "codemirror_mode": {
    "name": "ipython",
    "version": 3
   },
   "file_extension": ".py",
   "mimetype": "text/x-python",
   "name": "python",
   "nbconvert_exporter": "python",
   "pygments_lexer": "ipython3",
   "version": "3.11.4"
  },
  "orig_nbformat": 4
 },
 "nbformat": 4,
 "nbformat_minor": 2
}
